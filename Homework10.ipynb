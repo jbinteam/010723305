{
 "cells": [
  {
   "cell_type": "code",
   "execution_count": 1,
   "metadata": {},
   "outputs": [],
   "source": [
    "import numpy as np\n",
    "import cv2"
   ]
  },
  {
   "cell_type": "markdown",
   "metadata": {},
   "source": [
    "<h1 style = \"text-align: center\">\n",
    "    <a href = \"https://docs.opencv.org/4.5.3/d8/dfe/classcv_1_1VideoCapture.html\">VideoCapture</a>\n",
    "</h1>\n",
    "<h2 style = \"text-align: center\">\n",
    "is class for video capturing from video files, image sequences or cameras.\n",
    "</h2>"
   ]
  },
  {
   "cell_type": "code",
   "execution_count": 2,
   "metadata": {},
   "outputs": [],
   "source": [
    "cap = cv2.VideoCapture(0) # 0 is a id-number of video devices\n",
    "\n",
    "while cap.isOpened() :\n",
    "    #Read new frame\n",
    "    ret, frame = cap.read()\n",
    "    if ret == True :\n",
    "        cv2.imshow('Frame', frame)\n",
    "        \n",
    "        if cv2.waitKey(33) & 0xFF == ord('q') : # Period control f - 1/T\n",
    "            break\n",
    "    else :\n",
    "        break\n",
    "    \n",
    "cap.release()\n",
    "cv2.destroyAllWindows()"
   ]
  },
  {
   "cell_type": "code",
   "execution_count": 3,
   "metadata": {},
   "outputs": [],
   "source": [
    "vid = cv2.VideoCapture('./videos/Ant Tracking Hard.mp4')\n",
    "\n",
    "while vid.isOpened() :\n",
    "    ret, frame = vid.read()\n",
    "    \n",
    "    if ret :\n",
    "        cv2.imshow('Video frame', frame)\n",
    "\n",
    "        if cv2.waitKey(int(1000/24)) & 0xFF == ord('q') : # this line control the period between image frame\n",
    "            break\n",
    "    else :\n",
    "        break\n",
    "vid.release()\n",
    "cv2.destroyAllWindows()"
   ]
  },
  {
   "cell_type": "markdown",
   "metadata": {},
   "source": [
    "<h1 style=\"text-align: center\">\n",
    "    Lucus-Kanade Sparse Optical Flow \n",
    "</h1> <br>\n",
    "<h2 style=\"text-align: left\">\n",
    "    <a href=\"https://docs.opencv.org/4.5.3/dc/d6b/group__video__track.html#ga473e4b886d0bcc6b65831eb88ed93323\"> calcOpticalFlowPyrLK()</a>\n",
    "    is a Lucas-Kanade Spares Optical Flow built-in OpenCV function inside \n",
    "    <a href=\"https://docs.opencv.org/4.5.3/dc/d6b/group__video__track.html\"> Object Tracking </a>\n",
    "    module.\n",
    "</h2>"
   ]
  },
  {
   "cell_type": "code",
   "execution_count": 5,
   "metadata": {},
   "outputs": [],
   "source": [
    "def lucas_kanade_optical_flow(video_device) :\n",
    "\n",
    "    cap = cv2.VideoCapture(video_device)\n",
    "    # params for ShiTomasi corner detection\n",
    "    feature_params = dict( maxCorners = 500,\n",
    "                        qualityLevel = 0.03,\n",
    "                        minDistance = 7,\n",
    "                        blockSize = 25 )\n",
    "\n",
    "    # Parameters for lucas kanade optical flow\n",
    "    lk_params = dict( winSize  = (21,21),\n",
    "                    maxLevel = 3,\n",
    "                    criteria = (cv2.TERM_CRITERIA_EPS | cv2.TERM_CRITERIA_COUNT, 10, 0.03))\n",
    "\n",
    "    #Create some random colors\n",
    "    colors = np.random.randint(0, 255, (500, 3)) # 500 values 3 channel\n",
    "\n",
    "    #Take first frame and find corner\n",
    "    ret, old_frame = cap.read()\n",
    "    old_gray = cv2.cvtColor(old_frame, cv2.COLOR_BGR2GRAY)\n",
    "    p0 = cv2.goodFeaturesToTrack(old_gray, mask=None, **feature_params) # Feature detection, Harris corner with Shi-Tomasi response function\n",
    "\n",
    "    # Create a mask image for drawing overlay\n",
    "    mask = np.zeros_like(old_frame)\n",
    "\n",
    "    while cap.isOpened() :\n",
    "        \n",
    "        ret, frame = cap.read()\n",
    "\n",
    "        if ret :\n",
    "            frame_gray = cv2.cvtColor(frame, cv2.COLOR_BGR2GRAY)\n",
    "\n",
    "            #calculate optical flow \n",
    "            p1, st, err = cv2.calcOpticalFlowPyrLK(\n",
    "                old_gray, frame_gray, p0, None, **lk_params\n",
    "            )\n",
    "\n",
    "            # Select good points\n",
    "            good_new = p1[st == 1]\n",
    "            good_old = p0[st == 1]\n",
    "\n",
    "            # Traceline drawing\n",
    "            for i, (new, old) in enumerate(zip(good_new, good_old)):\n",
    "                a, b = new.ravel().astype(int)\n",
    "                c, d = old.ravel().astype(int)\n",
    "                mask = cv2.line(mask, (a, b), (c, d), colors[i].tolist(), 2)\n",
    "                frame = cv2.circle(frame, (a,b), 5, colors[i].tolist(), -1)\n",
    "            \n",
    "            compare_img = cv2.hconcat([frame, mask])\n",
    "            disp_img = cv2.add(frame, mask)\n",
    "            cv2.imshow('compare', compare_img)\n",
    "            cv2.imshow('frame', disp_img)\n",
    "\n",
    "            key = cv2.waitKey(27) & 0xFF\n",
    "            if key == 27 or key == ord('q') :\n",
    "                break\n",
    "            elif key == ord('c') : # clear mask\n",
    "                mask = np.zeros_like(old_frame)\n",
    "                p0 = cv2.goodFeaturesToTrack(old_gray, mask=None, **feature_params)\n",
    "            else :\n",
    "                #Update the previous frame and previous points\n",
    "                old_gray = frame_gray.copy()\n",
    "                p0 = good_new.reshape(-1, 1, 2)\n",
    "        else :\n",
    "            break\n",
    "\n",
    "    cap.release()\n",
    "    cv2.destroyAllWindows()\n",
    "\n",
    "lucas_kanade_optical_flow(0)"
   ]
  },
  {
   "cell_type": "markdown",
   "metadata": {},
   "source": [
    "<h1 style=\"text-align: center\">\n",
    "    Farnebäck Optical Flow\n",
    "</h1> <br>\n",
    "<h2 style=\"text-align: left\">\n",
    "    <a href=\"https://docs.opencv.org/4.5.3/dc/d6b/group__video__track.html#ga5d10ebbd59fe09c5f650289ec0ece5af\"> calcOpticalFlowFarneback()</a>\n",
    "    is a Farnebäck Dense Optical Flow built-in OpenCV function inside \n",
    "    <a href=\"https://docs.opencv.org/4.5.3/dc/d6b/group__video__track.html\"> Object Tracking </a>\n",
    "    module. <br>\n",
    "    <a href=\"https://docs.opencv.org/4.5.3/d2/de8/group__core__array.html#gac5f92f48ec32cacf5275969c33ee837d\">cartToPolar() </a>\n",
    "    is a utility function for cartesian to polar conversion\n",
    "</h2>"
   ]
  },
  {
   "cell_type": "code",
   "execution_count": 6,
   "metadata": {},
   "outputs": [],
   "source": [
    "def farneback_dense_optical_flow(video_device) :\n",
    "    cap = cv2.VideoCapture(video_device)\n",
    "\n",
    "    ret, frame = cap.read()\n",
    "    last_frame = cv2.cvtColor(frame, cv2.COLOR_BGR2GRAY)\n",
    "    hsv = np.zeros_like(frame)\n",
    "    hsv[:, :, 1] = 255\n",
    "\n",
    "    while cap.isOpened() :\n",
    "        ret, frame = cap.read()\n",
    "\n",
    "        if ret :\n",
    "            \n",
    "            frame_gray = cv2.cvtColor(frame, cv2.COLOR_BGR2GRAY)\n",
    "\n",
    "            flow = cv2.calcOpticalFlowFarneback(last_frame, frame_gray, None, 0.5, 3, 15, 3, 5, 1.2, 0) # flow dx dy\n",
    "            \n",
    "            mag, ang = cv2.cartToPolar(flow[:, :, 0], flow[:, :, 1])\n",
    "            hsv[:, :, 0] = ang*(180/np.pi/2)\n",
    "            hsv[:, :, 2] = cv2.normalize(mag, None, 0, 255, cv2.NORM_MINMAX)\n",
    "\n",
    "            flow_rgb = cv2.cvtColor(hsv, cv2.COLOR_HSV2BGR)\n",
    "\n",
    "            # thresh = cv2.inRange(hsv,(0, 0, 30), (20,255,255))\n",
    "            # motion_segment = cv2.bitwise_and(frame, frame, mask=thresh )\n",
    "            # cv2.imshow('thresh', motion_segment)\n",
    "           \n",
    "            last_frame = frame_gray.copy()\n",
    "\n",
    "            cv2.imshow('frame', frame)\n",
    "            cv2.imshow('flow', flow_rgb)\n",
    "            key = cv2.waitKey(27) & 0xFF\n",
    "            if key == 27 or key == ord('q') :\n",
    "                break\n",
    "\n",
    "        else :\n",
    "            break\n",
    "    \n",
    "    cap.release()\n",
    "    cv2.destroyAllWindows()\n",
    "            \n",
    "\n",
    "farneback_dense_optical_flow('./videos/Flow Visualization.mp4')"
   ]
  },
  {
   "cell_type": "markdown",
   "metadata": {},
   "source": [
    "<h1 style=\"text-align: center\">\n",
    "    Optical Flow exercise\n",
    "</h1>"
   ]
  },
  {
   "cell_type": "markdown",
   "metadata": {},
   "source": [
    "<h2>แบบฝึกหัดที่ 10</h2>\n",
    "<h4>วัตถุประสงค์ </h1>\n",
    "\n",
    "- ทักษะการประยุกต์ใช้เทคนิค optical flow\n",
    "<h4>โจทย์</h4>\n",
    "\n",
    "- ให้นักศึกษาเขียน code ซอฟต์แวร์นำข้อมูลวิดีโอมาประมวลผลเพื่อติดตามการเคลื่อนไหวของคนหรือสิ่งของภายในภาพ (Crowd heatmapping)\n",
    "- ให้นักศึกษากำหนด ROI (พื้นที่ที่สนใจของภาพ, พื้นที่ในกรอบสี่เหลี่ยมของภาพ) เพื่อป้องกันการตรวจจับเสาและสภาพแวดล้อมที่ไม่เกี่ยวข้องภายนอก\n",
    "- ในการส่งงานให้นักศึกษาคอมเมนต์ code ที่ตนเองเขียนและอัพโหลดไปยัง github ของตนเองแล้วนำลิงก์ดังกล่าวไปโพสต์ส่งใน googleclassroom\n",
    "- video ต่าง ๆ ที่ถูกในในตัวอย่างด้านบนอยู่ภายใน directory <a href=\"https://github.com/jbinteam/010723305/tree/main/videos\">videos</a>\n",
    "- ชุดข้อมูลวิดีโอ <a href = \"https://github.com/jbinteam/010723305/blob/main/videos/grandcentral.mp4?raw=true\">grandcentral.mp4</a><br>\n",
    "- ผลลัพธ์ที่คาดหวัง <a href =\"https://youtu.be/UoXAaafHeQY\" >Youtube Video</a> \n"
   ]
  },
  {
   "cell_type": "code",
   "execution_count": null,
   "metadata": {},
   "outputs": [],
   "source": [
    "## coding here :D"
   ]
  }
 ],
 "metadata": {
  "interpreter": {
   "hash": "63fd5069d213b44bf678585dea6b12cceca9941eaf7f819626cde1f2670de90d"
  },
  "kernelspec": {
   "display_name": "Python 3.9.6 64-bit",
   "name": "python3"
  },
  "language_info": {
   "codemirror_mode": {
    "name": "ipython",
    "version": 3
   },
   "file_extension": ".py",
   "mimetype": "text/x-python",
   "name": "python",
   "nbconvert_exporter": "python",
   "pygments_lexer": "ipython3",
   "version": "3.9.6"
  },
  "orig_nbformat": 4
 },
 "nbformat": 4,
 "nbformat_minor": 2
}
