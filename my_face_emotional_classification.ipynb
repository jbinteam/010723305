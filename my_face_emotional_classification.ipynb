{
  "metadata": {
    "kernelspec": {
      "language": "python",
      "display_name": "Python 3",
      "name": "python3"
    },
    "language_info": {
      "name": "python",
      "version": "3.7.12",
      "mimetype": "text/x-python",
      "codemirror_mode": {
        "name": "ipython",
        "version": 3
      },
      "pygments_lexer": "ipython3",
      "nbconvert_exporter": "python",
      "file_extension": ".py"
    },
    "kaggle": {
      "accelerator": "none",
      "dataSources": [
        {
          "sourceId": 1531489,
          "sourceType": "datasetVersion",
          "datasetId": 902987
        }
      ],
      "dockerImageVersionId": 30176,
      "isInternetEnabled": false,
      "language": "python",
      "sourceType": "notebook",
      "isGpuEnabled": false
    },
    "colab": {
      "name": "my_face_emotional_classification",
      "provenance": [],
      "include_colab_link": true
    }
  },
  "nbformat_minor": 0,
  "nbformat": 4,
  "cells": [
    {
      "cell_type": "markdown",
      "metadata": {
        "id": "view-in-github",
        "colab_type": "text"
      },
      "source": [
        "<a href=\"https://colab.research.google.com/github/jbinteam/010723305/blob/main/my_face_emotional_classification.ipynb\" target=\"_parent\"><img src=\"https://colab.research.google.com/assets/colab-badge.svg\" alt=\"Open In Colab\"/></a>"
      ]
    },
    {
      "source": [
        "\n",
        "# IMPORTANT: RUN THIS CELL IN ORDER TO IMPORT YOUR KAGGLE DATA SOURCES\n",
        "# TO THE CORRECT LOCATION (/kaggle/input) IN YOUR NOTEBOOK,\n",
        "# THEN FEEL FREE TO DELETE THIS CELL.\n",
        "# NOTE: THIS NOTEBOOK ENVIRONMENT DIFFERS FROM KAGGLE'S PYTHON\n",
        "# ENVIRONMENT SO THERE MAY BE MISSING LIBRARIES USED BY YOUR\n",
        "# NOTEBOOK.\n",
        "\n",
        "import os\n",
        "import sys\n",
        "from tempfile import NamedTemporaryFile\n",
        "from urllib.request import urlopen\n",
        "from urllib.parse import unquote, urlparse\n",
        "from urllib.error import HTTPError\n",
        "from zipfile import ZipFile\n",
        "import tarfile\n",
        "import shutil\n",
        "\n",
        "CHUNK_SIZE = 40960\n",
        "DATA_SOURCE_MAPPING = 'face-emotion:https%3A%2F%2Fstorage.googleapis.com%2Fkaggle-data-sets%2F902987%2F1531489%2Fbundle%2Farchive.zip%3FX-Goog-Algorithm%3DGOOG4-RSA-SHA256%26X-Goog-Credential%3Dgcp-kaggle-com%2540kaggle-161607.iam.gserviceaccount.com%252F20240801%252Fauto%252Fstorage%252Fgoog4_request%26X-Goog-Date%3D20240801T120709Z%26X-Goog-Expires%3D259200%26X-Goog-SignedHeaders%3Dhost%26X-Goog-Signature%3Daf9700bceb317cbecb5e2a36a7130cf05c89c12669eb73579e9d0156c0d6420c58407552f4d61265ff0e9a6cf7f798ea37552eec6511da2a9833c3a0b36ece0ce15d67289ee3ebdd4b9b5386f99e441f05d91e2ba347ea440f720696a2de08c6937bf1e6b730f06c1e5bc8b01a1f515a9b8f36f7e5030e4cff9b285f88f5c7a60e0afc0af1da1ca968e111d246f97cd9d938ded430c54d928f4c6edf084f2f09b867c76cb976a0a62f1b4edea349c3259e1e6a0060e2e6cba7da6cdb5c3d4b4422faeb58c64f466f9be7ca8b8c5fb36c46276667f05a08992cc8315a0265668ea67db2dcc79ccdbe3ee50aca26f6595cfab6280a11b721810fb252d58d7ade20'\n",
        "\n",
        "KAGGLE_INPUT_PATH='/kaggle/input'\n",
        "KAGGLE_WORKING_PATH='/kaggle/working'\n",
        "KAGGLE_SYMLINK='kaggle'\n",
        "\n",
        "!umount /kaggle/input/ 2> /dev/null\n",
        "shutil.rmtree('/kaggle/input', ignore_errors=True)\n",
        "os.makedirs(KAGGLE_INPUT_PATH, 0o777, exist_ok=True)\n",
        "os.makedirs(KAGGLE_WORKING_PATH, 0o777, exist_ok=True)\n",
        "\n",
        "try:\n",
        "  os.symlink(KAGGLE_INPUT_PATH, os.path.join(\"..\", 'input'), target_is_directory=True)\n",
        "except FileExistsError:\n",
        "  pass\n",
        "try:\n",
        "  os.symlink(KAGGLE_WORKING_PATH, os.path.join(\"..\", 'working'), target_is_directory=True)\n",
        "except FileExistsError:\n",
        "  pass\n",
        "\n",
        "for data_source_mapping in DATA_SOURCE_MAPPING.split(','):\n",
        "    directory, download_url_encoded = data_source_mapping.split(':')\n",
        "    download_url = unquote(download_url_encoded)\n",
        "    filename = urlparse(download_url).path\n",
        "    destination_path = os.path.join(KAGGLE_INPUT_PATH, directory)\n",
        "    try:\n",
        "        with urlopen(download_url) as fileres, NamedTemporaryFile() as tfile:\n",
        "            total_length = fileres.headers['content-length']\n",
        "            print(f'Downloading {directory}, {total_length} bytes compressed')\n",
        "            dl = 0\n",
        "            data = fileres.read(CHUNK_SIZE)\n",
        "            while len(data) > 0:\n",
        "                dl += len(data)\n",
        "                tfile.write(data)\n",
        "                done = int(50 * dl / int(total_length))\n",
        "                sys.stdout.write(f\"\\r[{'=' * done}{' ' * (50-done)}] {dl} bytes downloaded\")\n",
        "                sys.stdout.flush()\n",
        "                data = fileres.read(CHUNK_SIZE)\n",
        "            if filename.endswith('.zip'):\n",
        "              with ZipFile(tfile) as zfile:\n",
        "                zfile.extractall(destination_path)\n",
        "            else:\n",
        "              with tarfile.open(tfile.name) as tarfile:\n",
        "                tarfile.extractall(destination_path)\n",
        "            print(f'\\nDownloaded and uncompressed: {directory}')\n",
        "    except HTTPError as e:\n",
        "        print(f'Failed to load (likely expired) {download_url} to path {destination_path}')\n",
        "        continue\n",
        "    except OSError as e:\n",
        "        print(f'Failed to load {download_url} to path {destination_path}')\n",
        "        continue\n",
        "\n",
        "print('Data source import complete.')\n"
      ],
      "metadata": {
        "id": "jGUjev2n1kw7"
      },
      "cell_type": "code",
      "outputs": [],
      "execution_count": null
    },
    {
      "cell_type": "code",
      "source": [
        "import numpy as np # linear algebra\n",
        "import pandas as pd # data processing, CSV file I/O (e.g. pd.read_csv)\n",
        "import torch\n",
        "import torch.nn as nn\n",
        "import torch.nn.functional as F\n",
        "from PIL import Image\n",
        "\n",
        "from torch.utils.data import Dataset\n",
        "from torchvision.io import read_image\n",
        "from torch.utils.data import DataLoader\n",
        "from torchvision import transforms\n",
        "import os\n",
        "\n",
        "from matplotlib import pyplot as plt\n",
        "\n",
        "class CustomImageDataset(Dataset):\n",
        "    def __init__(self, root, transform=None, target_transform=None):\n",
        "        self.list_data=[]\n",
        "        self.classes=None\n",
        "        for dirname, _, filenames in os.walk(root):\n",
        "            if self.classes==None:\n",
        "                self.classes=_\n",
        "            for filename in filenames:\n",
        "                class_name=dirname.split('/')\n",
        "                self.list_data.append([self.classes.index(class_name[6]),os.path.join(dirname,filename)])\n",
        "        self.transform = transform\n",
        "        self.target_transform = target_transform\n",
        "        self.nSamples=len(self.list_data)\n",
        "        print(self.list_data[0])\n",
        "        print(self.classes)\n",
        "\n",
        "\n",
        "    def __len__(self):\n",
        "        return self.nSamples\n",
        "\n",
        "    def __getitem__(self, idx):\n",
        "        assert idx<=len(self)\n",
        "        img_path = self.list_data[idx][1]\n",
        "        image = Image.open(img_path)\n",
        "        label = self.list_data[idx][0]\n",
        "        if self.transform:\n",
        "            image = self.transform(image)\n",
        "        if self.target_transform:\n",
        "            label = self.target_transform(label)\n",
        "        label=torch.tensor(label)\n",
        "        return (image, label)\n",
        "\n",
        "transform = transforms.Compose([transforms.ToTensor(),])\n",
        "\n",
        "training_data=CustomImageDataset(root='/kaggle/input/face-emotion/train/train/',\n",
        "                                transform=transform)\n",
        "train_dataloader = DataLoader(training_data, batch_size=8, shuffle=False)\n",
        "\n"
      ],
      "metadata": {
        "execution": {
          "iopub.status.busy": "2024-08-01T10:58:47.993877Z",
          "iopub.execute_input": "2024-08-01T10:58:47.994266Z",
          "iopub.status.idle": "2024-08-01T10:59:01.074777Z",
          "shell.execute_reply.started": "2024-08-01T10:58:47.994172Z",
          "shell.execute_reply": "2024-08-01T10:59:01.073848Z"
        },
        "trusted": true,
        "id": "j78prW5g1kw_",
        "outputId": "c084b0de-c1e2-4163-880f-4ea3c291c0e1"
      },
      "execution_count": null,
      "outputs": [
        {
          "name": "stdout",
          "text": "[0, '/kaggle/input/face-emotion/train/train/Surprise/27147.png']\n['Surprise', 'Fear', 'Angry', 'Neutral', 'Sad', 'Disgust', 'Happy']\n",
          "output_type": "stream"
        }
      ]
    },
    {
      "cell_type": "code",
      "source": [
        "train_features, train_labels = next(iter(train_dataloader))\n",
        "print(f\"Feature batch shape: {train_features.size()}\")\n",
        "print(f\"Labels batch shape: {train_labels.size()}\")\n",
        "img = train_features[0].squeeze()\n",
        "print(train_features[0].shape)\n",
        "label = train_labels[0]\n",
        "plt.imshow(img, cmap=\"gray\")\n",
        "plt.show()\n",
        "print(f\"Label: {label},{training_data.classes[label]}\")"
      ],
      "metadata": {
        "execution": {
          "iopub.status.busy": "2024-08-01T10:59:37.533755Z",
          "iopub.execute_input": "2024-08-01T10:59:37.534098Z",
          "iopub.status.idle": "2024-08-01T10:59:37.718577Z",
          "shell.execute_reply.started": "2024-08-01T10:59:37.534062Z",
          "shell.execute_reply": "2024-08-01T10:59:37.717527Z"
        },
        "trusted": true,
        "id": "rhsto12r1kxA",
        "outputId": "be3228a9-6ec3-4888-bc2d-ddd46057382d"
      },
      "execution_count": null,
      "outputs": [
        {
          "name": "stdout",
          "text": "Feature batch shape: torch.Size([8, 1, 48, 48])\nLabels batch shape: torch.Size([8])\ntorch.Size([1, 48, 48])\n",
          "output_type": "stream"
        },
        {
          "output_type": "display_data",
          "data": {
            "text/plain": "<Figure size 432x288 with 1 Axes>",
            "image/png": "[encoded data removed]"
          },
          "metadata": {
            "needs_background": "light"
          }
        },
        {
          "name": "stdout",
          "text": "Label: 0,Surprise\n",
          "output_type": "stream"
        }
      ]
    },
    {
      "cell_type": "code",
      "source": [
        "def conv3x3(in_planes: int, out_planes: int, stride: int = 1, groups: int = 1, dilation: int = 1) -> nn.Conv2d:\n",
        "    \"\"\"3x3 convolution with padding\"\"\"\n",
        "    return nn.Conv2d(\n",
        "        in_planes,\n",
        "        out_planes,\n",
        "        kernel_size=3,\n",
        "        stride=stride,\n",
        "        padding=dilation,\n",
        "        groups=groups,\n",
        "        bias=False,\n",
        "        dilation=dilation,\n",
        "    )\n",
        "\n",
        "class Net(nn.Module):\n",
        "    def __init__(self):\n",
        "        super().__init__()\n",
        "#         self.conv1 = nn.Conv2d(in_channels=1, out_channels=64, kernel_size=3,stride=1,padding=1,bias=False)\n",
        "        self.layer1=nn.Sequential()\n",
        "        self.layer1.add_module(\"l1_Conv1\", conv3x3(in_planes=1, out_planes=64, dilation=1))\n",
        "        self.layer1.add_module(\"l1_BN1\", nn.BatchNorm2d(num_features=64, eps=1e-05, momentum=0.1, affine=True, track_running_stats=True))\n",
        "        self.layer1.add_module(\"l1_relu1\",nn.ReLU(inplace=True))\n",
        "        self.layer1.add_module(\"l1_Conv2\", conv3x3(in_planes=64, out_planes=64, dilation=1))\n",
        "        self.layer1.add_module(\"l1_BN2\", nn.BatchNorm2d(num_features=64, eps=1e-05, momentum=0.1, affine=True, track_running_stats=True))\n",
        "        self.layer1.add_module(\"l1_relu2\",nn.ReLU(inplace=True))\n",
        "        self.layer1.add_module(\"l1_maxPool\",nn.MaxPool2d(2, 2))\n",
        "\n",
        "        self.layer2=nn.Sequential()\n",
        "        self.layer2.add_module(\"l2_Conv1\", conv3x3(in_planes=64, out_planes=256, dilation=1))\n",
        "        self.layer2.add_module(\"l2_BN1\", nn.BatchNorm2d(num_features=256, eps=1e-05, momentum=0.1, affine=True, track_running_stats=True))\n",
        "        self.layer2.add_module(\"l2_relu1\",nn.ReLU(inplace=True))\n",
        "        self.layer2.add_module(\"l2_Conv2\", conv3x3(in_planes=256, out_planes=256, dilation=1))\n",
        "        self.layer2.add_module(\"l2_BN2\", nn.BatchNorm2d(num_features=256, eps=1e-05, momentum=0.1, affine=True, track_running_stats=True))\n",
        "        self.layer2.add_module(\"l2_relu2\",nn.ReLU(inplace=True))\n",
        "        self.layer2.add_module(\"l2_maxPool\",nn.MaxPool2d(2, 2))\n",
        "\n",
        "\n",
        "        self.layer3=nn.Sequential()\n",
        "        self.layer3.add_module(\"l3_Conv1\", conv3x3(in_planes=256, out_planes=512, dilation=1))\n",
        "        self.layer3.add_module(\"l3_BN1\", nn.BatchNorm2d(num_features=512, eps=1e-05, momentum=0.1, affine=True, track_running_stats=True))\n",
        "        self.layer3.add_module(\"l3_relu1\",nn.ReLU(inplace=True))\n",
        "        self.layer3.add_module(\"l3_Conv2\", conv3x3(in_planes=512, out_planes=512, dilation=1))\n",
        "        self.layer3.add_module(\"l3_BN2\", nn.BatchNorm2d(num_features=512, eps=1e-05, momentum=0.1, affine=True, track_running_stats=True))\n",
        "        self.layer3.add_module(\"l3_relu2\",nn.ReLU(inplace=True))\n",
        "        self.layer3.add_module(\"l3_Conv3\", conv3x3(in_planes=512, out_planes=512, dilation=1))\n",
        "        self.layer3.add_module(\"l3_BN3\", nn.BatchNorm2d(num_features=512, eps=1e-05, momentum=0.1, affine=True, track_running_stats=True))\n",
        "        self.layer3.add_module(\"l3_relu3\",nn.ReLU(inplace=True))\n",
        "        self.layer3.add_module(\"l3_maxPool\",nn.MaxPool2d(2, 2))\n",
        "\n",
        "\n",
        "        self.fc1 = nn.Linear(512*6*6, 512)\n",
        "        self.fc2 = nn.Linear(512, 64)\n",
        "        self.fc3 = nn.Linear(64, 7)\n",
        "\n",
        "\n",
        "    def forward(self, x):\n",
        "        x = self.layer1(x)\n",
        "        x = self.layer2(x)\n",
        "        x = self.layer3(x)\n",
        "\n",
        "        x = torch.flatten(x, 1) # flatten all dimensions except batch\n",
        "        x = F.relu(self.fc1(x))\n",
        "        x = F.relu(self.fc2(x))\n",
        "        x = self.fc3(x)\n",
        "        return x\n",
        "\n",
        "net=Net()"
      ],
      "metadata": {
        "execution": {
          "iopub.status.busy": "2024-08-01T10:59:43.143802Z",
          "iopub.execute_input": "2024-08-01T10:59:43.144153Z",
          "iopub.status.idle": "2024-08-01T10:59:43.336155Z",
          "shell.execute_reply.started": "2024-08-01T10:59:43.144112Z",
          "shell.execute_reply": "2024-08-01T10:59:43.334946Z"
        },
        "trusted": true,
        "id": "RVME6bLz1kxA"
      },
      "execution_count": null,
      "outputs": []
    },
    {
      "cell_type": "code",
      "source": [
        "import torch.optim as optim\n",
        "\n",
        "criterion = nn.CrossEntropyLoss()\n",
        "optimizer=optim.Adam(net.parameters(), lr=0.001, betas=(0.9, 0.999), eps=1e-08, weight_decay=0, amsgrad=False)\n"
      ],
      "metadata": {
        "execution": {
          "iopub.status.busy": "2024-08-01T10:59:52.326166Z",
          "iopub.execute_input": "2024-08-01T10:59:52.327264Z",
          "iopub.status.idle": "2024-08-01T10:59:52.332974Z",
          "shell.execute_reply.started": "2024-08-01T10:59:52.327216Z",
          "shell.execute_reply": "2024-08-01T10:59:52.33187Z"
        },
        "trusted": true,
        "id": "gCbu97S_1kxA"
      },
      "execution_count": null,
      "outputs": []
    },
    {
      "cell_type": "code",
      "source": [
        "for epoch in range(10):  # loop over the dataset multiple times\n",
        "    running_loss = 0.0\n",
        "    for i, (inputs, labels) in enumerate(train_dataloader):\n",
        "        # get the inputs; data is a list of [inputs, labels]\n",
        "        # zero the parameter gradients\n",
        "        optimizer.zero_grad()\n",
        "\n",
        "        # forward + backward + optimize\n",
        "        outputs = net(inputs)\n",
        "        loss = criterion(outputs, labels)\n",
        "        loss.backward()\n",
        "        optimizer.step()\n",
        "\n",
        "        # print statistics\n",
        "        running_loss += loss.item()\n",
        "\n",
        "        if i % 10 == 9:    #\n",
        "            print(f'[{epoch + 1}, {i + 1:5d}] loss: {running_loss / 10:.3f}')\n",
        "            running_loss = 0.0"
      ],
      "metadata": {
        "execution": {
          "iopub.status.busy": "2024-08-01T11:00:00.725226Z",
          "iopub.execute_input": "2024-08-01T11:00:00.725562Z",
          "iopub.status.idle": "2024-08-01T11:07:21.571698Z",
          "shell.execute_reply.started": "2024-08-01T11:00:00.725523Z",
          "shell.execute_reply": "2024-08-01T11:07:21.570466Z"
        },
        "trusted": true,
        "id": "oaHnfLJ81kxA",
        "outputId": "cf69ea29-9f86-43d3-9d92-5979515b5f16"
      },
      "execution_count": null,
      "outputs": [
        {
          "name": "stdout",
          "text": "[1,    10] loss: 0.198\n[1,    20] loss: 0.000\n[1,    30] loss: 0.000\n[1,    40] loss: 0.000\n[1,    50] loss: 0.000\n[1,    60] loss: 0.000\n[1,    70] loss: 0.000\n[1,    80] loss: 0.000\n[1,    90] loss: 0.000\n[1,   100] loss: 0.000\n[1,   110] loss: 0.000\n[1,   120] loss: 0.000\n[1,   130] loss: 0.000\n[1,   140] loss: 0.000\n[1,   150] loss: 0.000\n[1,   160] loss: 0.000\n[1,   170] loss: 0.000\n[1,   180] loss: 0.000\n[1,   190] loss: 0.000\n[1,   200] loss: 0.000\n[1,   210] loss: 0.000\n[1,   220] loss: 0.000\n[1,   230] loss: 0.000\n[1,   240] loss: 0.000\n[1,   250] loss: 0.000\n[1,   260] loss: 0.000\n[1,   270] loss: 0.000\n[1,   280] loss: 0.000\n[1,   290] loss: 0.000\n[1,   300] loss: 0.000\n[1,   310] loss: 0.000\n[1,   320] loss: 0.000\n[1,   330] loss: 0.000\n[1,   340] loss: 0.000\n[1,   350] loss: 0.000\n[1,   360] loss: 0.000\n[1,   370] loss: 0.000\n[1,   380] loss: 0.000\n[1,   390] loss: 0.000\n[1,   400] loss: 27.787\n[1,   410] loss: 0.011\n",
          "output_type": "stream"
        },
        {
          "traceback": [
            "\u001b[0;31m---------------------------------------------------------------------------\u001b[0m",
            "\u001b[0;31mKeyboardInterrupt\u001b[0m                         Traceback (most recent call last)",
            "\u001b[0;32m/tmp/ipykernel_17/2809154727.py\u001b[0m in \u001b[0;36m<module>\u001b[0;34m\u001b[0m\n\u001b[1;32m      9\u001b[0m         \u001b[0moutputs\u001b[0m \u001b[0;34m=\u001b[0m \u001b[0mnet\u001b[0m\u001b[0;34m(\u001b[0m\u001b[0minputs\u001b[0m\u001b[0;34m)\u001b[0m\u001b[0;34m\u001b[0m\u001b[0;34m\u001b[0m\u001b[0m\n\u001b[1;32m     10\u001b[0m         \u001b[0mloss\u001b[0m \u001b[0;34m=\u001b[0m \u001b[0mcriterion\u001b[0m\u001b[0;34m(\u001b[0m\u001b[0moutputs\u001b[0m\u001b[0;34m,\u001b[0m \u001b[0mlabels\u001b[0m\u001b[0;34m)\u001b[0m\u001b[0;34m\u001b[0m\u001b[0;34m\u001b[0m\u001b[0m\n\u001b[0;32m---> 11\u001b[0;31m         \u001b[0mloss\u001b[0m\u001b[0;34m.\u001b[0m\u001b[0mbackward\u001b[0m\u001b[0;34m(\u001b[0m\u001b[0;34m)\u001b[0m\u001b[0;34m\u001b[0m\u001b[0;34m\u001b[0m\u001b[0m\n\u001b[0m\u001b[1;32m     12\u001b[0m         \u001b[0moptimizer\u001b[0m\u001b[0;34m.\u001b[0m\u001b[0mstep\u001b[0m\u001b[0;34m(\u001b[0m\u001b[0;34m)\u001b[0m\u001b[0;34m\u001b[0m\u001b[0;34m\u001b[0m\u001b[0m\n\u001b[1;32m     13\u001b[0m \u001b[0;34m\u001b[0m\u001b[0m\n",
            "\u001b[0;32m/opt/conda/lib/python3.7/site-packages/torch/_tensor.py\u001b[0m in \u001b[0;36mbackward\u001b[0;34m(self, gradient, retain_graph, create_graph, inputs)\u001b[0m\n\u001b[1;32m    253\u001b[0m                 \u001b[0mcreate_graph\u001b[0m\u001b[0;34m=\u001b[0m\u001b[0mcreate_graph\u001b[0m\u001b[0;34m,\u001b[0m\u001b[0;34m\u001b[0m\u001b[0;34m\u001b[0m\u001b[0m\n\u001b[1;32m    254\u001b[0m                 inputs=inputs)\n\u001b[0;32m--> 255\u001b[0;31m         \u001b[0mtorch\u001b[0m\u001b[0;34m.\u001b[0m\u001b[0mautograd\u001b[0m\u001b[0;34m.\u001b[0m\u001b[0mbackward\u001b[0m\u001b[0;34m(\u001b[0m\u001b[0mself\u001b[0m\u001b[0;34m,\u001b[0m \u001b[0mgradient\u001b[0m\u001b[0;34m,\u001b[0m \u001b[0mretain_graph\u001b[0m\u001b[0;34m,\u001b[0m \u001b[0mcreate_graph\u001b[0m\u001b[0;34m,\u001b[0m \u001b[0minputs\u001b[0m\u001b[0;34m=\u001b[0m\u001b[0minputs\u001b[0m\u001b[0;34m)\u001b[0m\u001b[0;34m\u001b[0m\u001b[0;34m\u001b[0m\u001b[0m\n\u001b[0m\u001b[1;32m    256\u001b[0m \u001b[0;34m\u001b[0m\u001b[0m\n\u001b[1;32m    257\u001b[0m     \u001b[0;32mdef\u001b[0m \u001b[0mregister_hook\u001b[0m\u001b[0;34m(\u001b[0m\u001b[0mself\u001b[0m\u001b[0;34m,\u001b[0m \u001b[0mhook\u001b[0m\u001b[0;34m)\u001b[0m\u001b[0;34m:\u001b[0m\u001b[0;34m\u001b[0m\u001b[0;34m\u001b[0m\u001b[0m\n",
            "\u001b[0;32m/opt/conda/lib/python3.7/site-packages/torch/autograd/__init__.py\u001b[0m in \u001b[0;36mbackward\u001b[0;34m(tensors, grad_tensors, retain_graph, create_graph, grad_variables, inputs)\u001b[0m\n\u001b[1;32m    147\u001b[0m     Variable._execution_engine.run_backward(\n\u001b[1;32m    148\u001b[0m         \u001b[0mtensors\u001b[0m\u001b[0;34m,\u001b[0m \u001b[0mgrad_tensors_\u001b[0m\u001b[0;34m,\u001b[0m \u001b[0mretain_graph\u001b[0m\u001b[0;34m,\u001b[0m \u001b[0mcreate_graph\u001b[0m\u001b[0;34m,\u001b[0m \u001b[0minputs\u001b[0m\u001b[0;34m,\u001b[0m\u001b[0;34m\u001b[0m\u001b[0;34m\u001b[0m\u001b[0m\n\u001b[0;32m--> 149\u001b[0;31m         allow_unreachable=True, accumulate_grad=True)  # allow_unreachable flag\n\u001b[0m\u001b[1;32m    150\u001b[0m \u001b[0;34m\u001b[0m\u001b[0m\n\u001b[1;32m    151\u001b[0m \u001b[0;34m\u001b[0m\u001b[0m\n",
            "\u001b[0;31mKeyboardInterrupt\u001b[0m: "
          ],
          "ename": "KeyboardInterrupt",
          "evalue": "",
          "output_type": "error"
        }
      ]
    },
    {
      "cell_type": "code",
      "source": [
        "test_dataloader = DataLoader(training_data, batch_size=8, shuffle=True)\n",
        "\n",
        "test_features, test_labels = next(iter(test_dataloader))\n",
        "print(test_labels)\n",
        "\n",
        "test_detection=net(test_features)\n",
        "print(test_detection)\n",
        "\n",
        "\n",
        "img = test_features[0].squeeze()\n",
        "label = test_labels[0]\n",
        "print(training_data.classes)\n",
        "print(\"{}\".format(training_data.classes[label]))\n",
        "plt.imshow(img, cmap=\"gray\")\n",
        "plt.show()"
      ],
      "metadata": {
        "execution": {
          "iopub.status.busy": "2024-08-01T11:15:16.469824Z",
          "iopub.execute_input": "2024-08-01T11:15:16.471044Z",
          "iopub.status.idle": "2024-08-01T11:15:16.875462Z",
          "shell.execute_reply.started": "2024-08-01T11:15:16.470967Z",
          "shell.execute_reply": "2024-08-01T11:15:16.874556Z"
        },
        "trusted": true,
        "id": "BW29D5z91kxB",
        "outputId": "a34612c0-400f-4240-b10b-6b8dcf354207"
      },
      "execution_count": null,
      "outputs": [
        {
          "name": "stdout",
          "text": "tensor([0, 3, 4, 0, 2, 2, 4, 4])\ntensor([[  -3.7909,   41.4993,  -16.0410,  -20.2238,   -9.3506,   -7.7345,\n          -10.5376],\n        [  -3.9793,   42.2535,  -16.3737,  -20.5848,   -9.5547,   -7.8660,\n          -10.6190],\n        [  -4.3321,   46.6324,  -18.0798,  -22.8084,  -10.6020,   -8.6599,\n          -11.7854],\n        [  -3.9349,   41.8068,  -16.2012,  -20.3670,   -9.4506,   -7.7805,\n          -10.5063],\n        [  -3.8823,   41.5143,  -16.0790,  -20.2303,   -9.3694,   -7.7190,\n          -10.4497],\n        [  -3.9626,   42.1014,  -16.3146,  -20.5104,   -9.5174,   -7.8360,\n          -10.5807],\n        [ -23.1455,  369.1485, -141.8561, -185.0421,  -75.6300,  -64.0096,\n          -99.7308],\n        [ -10.4021,  126.4245,  -49.5434,  -63.7598,  -28.2976,  -23.6415,\n          -32.0200]], grad_fn=<AddmmBackward>)\n['Surprise', 'Fear', 'Angry', 'Neutral', 'Sad', 'Disgust', 'Happy']\nSurprise\n",
          "output_type": "stream"
        },
        {
          "output_type": "display_data",
          "data": {
            "text/plain": "<Figure size 432x288 with 1 Axes>",
            "image/png": "[encoded data removed]"
          },
          "metadata": {
            "needs_background": "light"
          }
        }
      ]
    }
  ]
}