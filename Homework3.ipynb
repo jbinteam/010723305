{
  "nbformat": 4,
  "nbformat_minor": 0,
  "metadata": {
    "colab": {
      "name": "Homework3.ipynb",
      "provenance": [],
      "collapsed_sections": [],
      "toc_visible": true,
      "authorship_tag": "ABX9TyNCQ31cWoNbelkygdp5QSPv",
      "include_colab_link": true
    },
    "kernelspec": {
      "name": "python3",
      "display_name": "Python 3"
    },
    "language_info": {
      "name": "python"
    }
  },
  "cells": [
    {
      "cell_type": "markdown",
      "metadata": {
        "id": "view-in-github",
        "colab_type": "text"
      },
      "source": [
        "<a href=\"https://colab.research.google.com/github/jbinteam/010723305/blob/main/Homework3.ipynb\" target=\"_parent\"><img src=\"https://colab.research.google.com/assets/colab-badge.svg\" alt=\"Open In Colab\"/></a>"
      ]
    },
    {
      "cell_type": "markdown",
      "metadata": {
        "id": "pF_GZNoaC7AN"
      },
      "source": [
        "# การบ้านสัปดาห์ที่ 3\n",
        "- ความเข้าใจเกี่ยวกับ Histogram ,การปรับปรุงภาพด้วย histogram, ความรูัพื้นฐานของการทำ filter ภาพ\n"
      ]
    },
    {
      "cell_type": "markdown",
      "metadata": {
        "id": "iGztnBmnCn6U"
      },
      "source": [
        "ข้อมูล library\n",
        "[\"numpy.random.normal\"](https://numpy.org/doc/stable/reference/random/generated/numpy.random.normal.html)"
      ]
    },
    {
      "cell_type": "code",
      "metadata": {
        "id": "MIPQ8Z1oGkqz"
      },
      "source": [
        "import numpy as np #เรียกใช้งาน library numpy โดยหลังจากนี้จะเรียกใช้ด้วยการพิมพ์สั้นๆแค่ np\n",
        "from PIL import Image #เรียกใช้งาน Image จาก library PIL\n",
        "from matplotlib import pyplot as plt #เรียกใช้งาน pyplot จาก matplotlib โดยหลังจากนี้จะเรียกใช้ด้วยการพิมพ์สั้นๆแค่ plt\n",
        "from skimage import io\n",
        "from google.colab.patches import cv2_imshow\n",
        "from skimage.util import img_as_ubyte\n",
        "import cv2\n",
        "import urllib\n"
      ],
      "execution_count": null,
      "outputs": []
    },
    {
      "cell_type": "markdown",
      "metadata": {
        "id": "nJrAKCGaMg4g"
      },
      "source": [
        "โปรแกรมด้านล่างเป็นโปรแกรมที่สุ่มค่า intensity ของ channel R, G, B เพื่อมาแสดงผลเป็นภาพสีแบบแยก channel และภาพสีที่เป็น RGB\n",
        "\n",
        "ให้นักศึกษาลองรันหรือแก้ไขโปรแกรมแล้วสังเกตผล"
      ]
    },
    {
      "cell_type": "code",
      "metadata": {
        "id": "Cld_BrwrG6kz"
      },
      "source": [
        "mu, sigma = 125, 30 # mean and standard deviation\n",
        "r = np.random.normal(mu, sigma, 100).astype(int)\n",
        "\n",
        "g=np.random.randint(0, 255, 100)\n",
        "g_mean=np.mean(g)\n",
        "g_std_dev=np.std(g, ddof=1)\n",
        "\n",
        "b=np.random.randint(0, 255, 100)\n",
        "b_mean=np.mean(b)\n",
        "b_std_dev=np.std(b, ddof=1)\n",
        "\n",
        "r=r.reshape((10,10))\n",
        "g=g.reshape((10,10))\n",
        "b=b.reshape((10,10))\n",
        "\n",
        "#สำหรับแสดงผล　histogram\n",
        "\n",
        "print(b_std_dev)\n",
        "\n",
        "r_vec=np.array([1,0,0])[None, None, :]\n",
        "g_vec=np.array([0,1,0])[None, None, :]\n",
        "b_vec=np.array([0,0,1])[None, None, :]\n",
        "\n",
        "# print(r)\n",
        "# print(g)\n",
        "# print(b)\n",
        "\n",
        "output_r=r[:,:,None]*r_vec\n",
        "output_g=g[:,:,None]*g_vec\n",
        "output_b=b[:,:,None]*b_vec\n",
        "\n",
        "outputRGB=output_r+output_g+output_b\n",
        "\n",
        "display_all_output=np.hstack((output_r,output_g,output_b,outputRGB))\n",
        "\n",
        "\n",
        "fig, ((ax1, ax2,ax3, ax4)) = plt.subplots(nrows=1, ncols=4)\n",
        "fig.set_figwidth(15)\n",
        "fig.set_figheight(15)\n",
        "ax1.imshow(output_r)\n",
        "ax2.imshow(output_g)\n",
        "ax3.imshow(output_b)\n",
        "ax4.imshow(outputRGB)\n",
        "\n",
        "\n",
        "plt.show()"
      ],
      "execution_count": null,
      "outputs": []
    },
    {
      "cell_type": "markdown",
      "metadata": {
        "id": "X2Jtr3YNNkBk"
      },
      "source": [
        "โปรแกรมด้านล่างแสดง histogram ของแต่ละภาพจากผลลัพธ์ของโปรแกรมด้านบน\n",
        "ให้นักศึกษารันหรือแก้ไขโปรแกรมด้านล่างแล้วสังเกตผลลัพธ์"
      ]
    },
    {
      "cell_type": "code",
      "metadata": {
        "id": "7ldng9jk7vL6"
      },
      "source": [
        "#แสดงผล \n",
        "n_bins=100 #จำนวน bin ของข้อมูล\n",
        "fig, ((hist_r, hist_g,hist_b, hist_RGB)) = plt.subplots(nrows=1, ncols=4)\n",
        "fig.set_figwidth(16)\n",
        "fig.set_figheight(4)\n",
        "\n",
        "hist_r.hist(r.flatten(),10,[0,256], color = 'r') # แสดง histogram จำนวน 10 bins\n",
        "hist_g.hist(g.flatten(),50,[0,256], color = 'g') # แสดง histogram จำนวน 50 bins\n",
        "hist_b.hist(b.flatten(),100,[0,256], color = 'b') # แสดง histogram จำนวน 100 bins\n",
        "\n",
        "n, bins, ignored = hist_r.hist(r.flatten(), bins=n_bins, density=True)\n",
        "\n",
        "hist_RGB.plot(bins, 1/(sigma * np.sqrt(2 * np.pi)) *\n",
        "               np.exp( - (bins - mu)**2 / (2 * sigma**2) ),\n",
        "         linewidth=1, color='r',linestyle='--')\n",
        "\n",
        "hist_RGB.plot(bins, 1/(g_std_dev * np.sqrt(2 * np.pi)) *\n",
        "               np.exp( - (bins - g_mean)**2 / (2 * g_std_dev**2) ),\n",
        "         linewidth=1, color='g',linestyle='--')\n",
        "\n",
        "hist_RGB.plot(bins, 1/(b_std_dev * np.sqrt(2 * np.pi)) *\n",
        "               np.exp( - (bins - b_mean)**2 / (2 * b_std_dev**2) ),\n",
        "         linewidth=1, color='b',linestyle='--')\n",
        "\n",
        "# plt.imshow(display_all_output)\n",
        "plt.tight_layout()\n",
        "plt.show()"
      ],
      "execution_count": null,
      "outputs": []
    },
    {
      "cell_type": "code",
      "metadata": {
        "id": "CGwAWArHNOJN"
      },
      "source": [
        "urls=\"https://github.com/jbinteam/010723305/blob/main/images/Unequalized_Hawkes_Bay_NZ.jpg?raw=true\"\n",
        "image = io.imread(urls)\n",
        "cv_img = img_as_ubyte(image) #แปลงข้อมูล unsigned byte เป็น image\n",
        "cv_img = cv2.cvtColor(cv_img,cv2.COLOR_RGB2GRAY)\n",
        "\n",
        "\n",
        "#ใช้ library opencv ในการทำ　histogram equalization\n",
        "equ = cv2.equalizeHist(cv_img)\n",
        "res = np.hstack((cv_img,equ))\n",
        "cv2_imshow(res)"
      ],
      "execution_count": null,
      "outputs": []
    },
    {
      "cell_type": "markdown",
      "metadata": {
        "id": "soB6iIr6GKdG"
      },
      "source": [
        "## แบบฝึกหัดที่ 3.1\n",
        "\n",
        "**วัตถุประสงค์**\n",
        "- เพื่อทดสอบความรู้ความเข้าใจในเรื่อง histogram equalization\n",
        "\n",
        "\n",
        "**โจทย์:** ให้นักศึกษาทำการเขียนโปรแกรมเพื่อทำ histogram equalization ให้ได้ภาพผลลัพธ์ที่มีค่า max intensity ไม่เกิน 150 โดยไม่ใช้คำสั่ง \n",
        "cv2.equalizeHist(__)"
      ]
    },
    {
      "cell_type": "code",
      "metadata": {
        "id": "_-trkHkLp9oj"
      },
      "source": [
        "num_bins=256\n",
        "hist,bins = np.histogram(cv_img.flatten(),num_bins,[0,256])\n",
        "cdf = hist.cumsum()\n",
        "cdf_normalized = cdf * float(hist.max()) / cdf.max()\n",
        "plt.plot(cdf_normalized, color = 'b',label='cdf')\n",
        "plt.hist(cv_img.flatten(),num_bins,[0,256], color = 'r')\n",
        "plt.legend()\n",
        "cv2_imshow(cv_img)"
      ],
      "execution_count": null,
      "outputs": []
    },
    {
      "cell_type": "code",
      "metadata": {
        "id": "DtkC6VMC7Ufa"
      },
      "source": [
        "cv_flatten=cv_img.flatten() #จัดการ shape ของข้อมูลเป็น one dimension array\n",
        "new_img=np.zeros_like(cv_flatten) #สร้างตัวแปรใหม่เพื่อรอเก็บค่าจากการประมวลผล\n",
        "cdf_min=np.min(cdf[np.nonzero(cdf)])\n",
        "\n",
        "\n",
        "######### เพิ่มเติมโค๊ดลงใน for loop ด้านล่าง #########\n",
        "\n",
        "# for i in range(cv_flatten.size):\n",
        "  \n",
        "  # new_img[i]=\n",
        "\n",
        "#################################################\n",
        "\n",
        "w=cv_img.shape[0]\n",
        "h=cv_img.shape[1]\n",
        "\n",
        "im=new_img.reshape(w,h)\n",
        "\n",
        "num_bins=256\n",
        "new_hist,bins = np.histogram(new_img,num_bins,[0,256])\n",
        "\n",
        "cdf = new_hist.cumsum()\n",
        "\n",
        "cdf_normalized = cdf * float(new_hist.max()) / cdf.max()\n",
        "plt.plot(cdf_normalized, color = 'b',label='cdf')\n",
        "plt.hist(new_img,num_bins,[0,256], color = 'r')\n",
        "plt.legend()\n",
        "\n",
        "cv2_imshow(im)"
      ],
      "execution_count": null,
      "outputs": []
    },
    {
      "cell_type": "markdown",
      "metadata": {
        "id": "MEODNnh_8vbA"
      },
      "source": [
        "## แบบฝึกหัดที่ 3.2\n",
        "\n",
        "**วัตถุประสงค์**\n",
        "- เพื่อทดสอบความรู้ความเข้าใจเรื่องการทำ filter, image convolutional, image derivative\n",
        "\n",
        "**คำถาม:** \n",
        "ให้นักศึกษารันโค๊ดด้านล่าง แล้วสังเกตผลลัพธ์ แล้วตอบคำถามต่อไปนี้\n",
        "\n",
        "3.2.1 ถ้าเปลี่ยน kernel filter ให้ใหญ่ขึ้นจะส่งผลให้ผลลัพธ์ออกมาเป็นแบบใด เพราะอะไร\n",
        "\n",
        "3.2.2 อธิบายผลลัพธ์จากการ filter ภาพที่แสดงอยู่ในรูปแบบ signal graph ว่าเพราะเหตุใด signal graph ของภาพที่ผ่านการฟิลเตอร์จึงมี amplitude ของ graph ต่ำกว่า amplitude ของ signal graph จาก original image  \n"
      ]
    },
    {
      "cell_type": "code",
      "metadata": {
        "id": "dd-k8DPwH9ab"
      },
      "source": [
        "rand_data=np.random.randint(100, 150, 100)\n",
        "rand_img=rand_data.reshape((10,10))\n",
        "rand_img = np.array(rand_img, dtype=np.uint8) #convert int64 to uint8 for operating with opencv\n",
        "\n",
        "# 3.2.1 ทดลองเปลี่ยนขนาดแล้วสังเกตผลลัพธ์\n",
        "ksizeWidth=5\n",
        "ksizeHeight=5\n",
        "\n",
        "filtered_img = cv2.boxFilter(rand_img, -1, (ksizeWidth,ksizeHeight))\n",
        "\n",
        "#      boxFilter    \n",
        "#                         |1 1 1|   |1/9 1/9 1/9|\n",
        "# K=1/(ksize.w*ksize.h))* |1 1 1| = |1/9 1/9 1/9|\n",
        "#                         |1 1 1|   |1/9 1/9 1/9|\n",
        "#\n",
        "\n",
        "my_kernel=np.array([[1/16,1/8,1/16],[1/8,1/4,1/8],[1/16,1/8,1/16]])\n",
        "# print(my_kernel)\n",
        "filtered_img2=cv2.filter2D(rand_img,-1,my_kernel)\n",
        "\n",
        "fig, ((img_plot,boxfilter_plot,my_filtered_plot, img_as_signal)) = plt.subplots(nrows=1, ncols=4)\n",
        "img_plot.title.set_text('Original')\n",
        "img_plot.imshow(rand_img,'gray')\n",
        "\n",
        "boxfilter_plot.title.set_text('boxFilter')\n",
        "boxfilter_plot.imshow(filtered_img,'gray')\n",
        "\n",
        "my_filtered_plot.title.set_text('My filter')\n",
        "my_filtered_plot.imshow(filtered_img2,'gray')\n",
        "img_as_signal.axis([0, 100, 90, 160])\n",
        "\n",
        "img_as_signal.title.set_text('Signal plot')\n",
        "img_as_signal.plot(rand_data,color = 'gray',linestyle='--',label='original') #\n",
        "img_as_signal.plot(filtered_img.flatten(),color = 'b',label='filterBox')\n",
        "img_as_signal.plot(filtered_img2.flatten(),color = 'g',label='my_filter')\n",
        "img_as_signal.legend()\n",
        "img_as_signal.grid()\n",
        "\n",
        "# fig.tight_layout()\n",
        "fig.set_figwidth(25)\n",
        "fig.show()\n"
      ],
      "execution_count": null,
      "outputs": []
    },
    {
      "cell_type": "markdown",
      "metadata": {
        "id": "moyCc_bDPzo2"
      },
      "source": [
        "## แบบฝึกหัดที่ 3.3\n",
        "\n",
        "**วัตถุประสงค์**\n",
        "- เพื่อทดสอบความรู้ความเข้าใจเรื่องการทำ filter, image convolutional, image derivative\n",
        "\n",
        "**โจทย์:** ให้นักศึกษาทำการเขียนโปรแกรมเพื่อทำการตรวจจับขอบ (edge detection)จากภาพด้านล่าง(รูปซ้าย) **ด้วยเทคนิค spatial filter เท่านั้น** เพื่อให้ได้ผลลัพธ์ใกล้เคียงหรือดีกว่าภาพทางด้านขวา พร้อมอธิบายการทำงานของโค๊ดมาคร่าวๆเป็นขั้นตอน \n",
        "1. (ว่า code ของ)\n",
        "\n",
        "2. (นักศึกษา)\n",
        "\n",
        "3. (ทำงานอย่างไร)\n",
        "\n",
        "\n",
        "<img align=\"left\" width=\"300\" height=\"300\" src=\"https://github.com/jbinteam/010723305/blob/main/images/cameraman_noisy.png?raw=true\">\n",
        "\n",
        "\n",
        "<img align=\"left\" width=\"300\" height=\"300\" src=\"https://github.com/jbinteam/010723305/blob/main/images/expected_output_week3.png?raw=true\">\n",
        "\n",
        "\n"
      ]
    },
    {
      "cell_type": "code",
      "metadata": {
        "id": "y3lyYBlVOtzw"
      },
      "source": [
        "url_img='https://github.com/jbinteam/010723305/blob/main/images/cameraman_noisy.png?raw=true'\n",
        "\n",
        "original_img = io.imread(url_img)\n",
        "\n",
        "cv_img = img_as_ubyte(original_img)\n",
        "\n",
        "\n",
        "cv2_imshow(cv_img)"
      ],
      "execution_count": null,
      "outputs": []
    }
  ]
}