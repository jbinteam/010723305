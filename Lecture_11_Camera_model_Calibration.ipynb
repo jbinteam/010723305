{
 "cells": [
  {
   "cell_type": "code",
   "execution_count": 1,
   "metadata": {},
   "outputs": [],
   "source": [
    "import numpy as np\n",
    "import cv2\n",
    "import os"
   ]
  },
  {
   "cell_type": "markdown",
   "metadata": {},
   "source": [
    "<h1 style=\"text-align: center;\">\n",
    "    Camera Calibration with OpenCV\n",
    "</h1>"
   ]
  },
  {
   "cell_type": "code",
   "execution_count": 2,
   "metadata": {},
   "outputs": [],
   "source": [
    "chessboard_size = (8,6) # Your chessboard size\n",
    "\n",
    "# iterative termination criteria, maximum iterationm and epsilon\n",
    "term_criteria = (cv2.TermCriteria_EPS+ cv2.TermCriteria_MAX_ITER, 30, 0.001)"
   ]
  },
  {
   "cell_type": "code",
   "execution_count": 3,
   "metadata": {},
   "outputs": [],
   "source": [
    "# List to store object points and images point from all the images.\n",
    "obj_points = list() # 3D points in heterogeneous Xi\n",
    "img_points = list() # 2D points on image xi\n",
    "\n",
    "# Defining the world coordinates for 3D points Xi\n",
    "objp = np.zeros((1, chessboard_size[0] * chessboard_size[1], 3), np.float32)\n",
    "objp[0,:,:2] = np.mgrid[0:chessboard_size[0], 0:chessboard_size[1]].T.reshape(-1, 2)\n",
    "prev_img_shape = None"
   ]
  },
  {
   "cell_type": "code",
   "execution_count": 4,
   "metadata": {},
   "outputs": [
    {
     "name": "stdout",
     "output_type": "stream",
     "text": [
      "d:\\KMUTNB\\IEE\\Image Processing\\010723305-Computer-Vision/images/monocular/calibrationdata/\n",
      "WIN_20211024_15_44_26_Pro.jpg\n",
      "WIN_20211024_15_44_28_Pro.jpg\n",
      "WIN_20211024_15_44_30_Pro.jpg\n",
      "WIN_20211024_15_44_32_Pro.jpg\n",
      "WIN_20211024_15_44_35_Pro.jpg\n",
      "WIN_20211024_15_44_37_Pro.jpg\n",
      "WIN_20211024_15_44_39_Pro.jpg\n",
      "WIN_20211024_15_44_41_Pro.jpg\n",
      "WIN_20211024_15_44_43_Pro.jpg\n",
      "WIN_20211024_15_44_45_Pro.jpg\n",
      "WIN_20211024_15_44_48_Pro.jpg\n",
      "WIN_20211024_15_44_50_Pro.jpg\n",
      "WIN_20211024_15_44_52_Pro.jpg\n",
      "WIN_20211024_15_44_54_Pro.jpg\n",
      "WIN_20211024_15_44_56_Pro.jpg\n",
      "WIN_20211024_15_44_58_Pro.jpg\n",
      "WIN_20211024_15_45_00_Pro.jpg\n",
      "WIN_20211024_15_45_03_Pro.jpg\n",
      "WIN_20211024_15_45_05_Pro.jpg\n",
      "WIN_20211024_15_45_07_Pro.jpg\n",
      "WIN_20211024_15_45_09_Pro.jpg\n",
      "WIN_20211024_15_45_11_Pro.jpg\n",
      "WIN_20211024_15_45_13_Pro.jpg\n",
      "WIN_20211024_15_45_15_Pro.jpg\n",
      "WIN_20211024_15_45_18_Pro.jpg\n",
      "WIN_20211024_15_45_20_Pro.jpg\n",
      "WIN_20211024_15_45_22_Pro.jpg\n",
      "WIN_20211024_15_45_24_Pro.jpg\n",
      "WIN_20211024_15_45_26_Pro.jpg\n",
      "WIN_20211024_15_45_28_Pro.jpg\n",
      "WIN_20211024_15_45_30_Pro.jpg\n",
      "WIN_20211024_15_45_33_Pro.jpg\n",
      "WIN_20211024_15_45_35_Pro.jpg\n",
      "WIN_20211024_15_45_37_Pro.jpg\n",
      "WIN_20211024_15_45_39_Pro.jpg\n",
      "WIN_20211024_15_45_41_Pro.jpg\n",
      "WIN_20211024_15_45_43_Pro.jpg\n",
      "WIN_20211024_15_45_46_Pro.jpg\n",
      "WIN_20211024_15_45_48_Pro.jpg\n",
      "WIN_20211024_15_45_50_Pro.jpg\n",
      "WIN_20211024_15_45_54_Pro.jpg\n",
      "WIN_20211024_15_45_56_Pro.jpg\n",
      "WIN_20211024_15_46_07_Pro.jpg\n",
      "WIN_20211024_15_46_09_Pro.jpg\n",
      "WIN_20211024_15_46_11_Pro.jpg\n",
      "WIN_20211024_15_46_13_Pro.jpg\n",
      "WIN_20211024_15_46_16_Pro.jpg\n",
      "WIN_20211024_15_46_18_Pro.jpg\n",
      "WIN_20211024_15_46_20_Pro.jpg\n",
      "WIN_20211024_15_46_33_Pro.jpg\n",
      "WIN_20211024_15_46_35_Pro.jpg\n",
      "WIN_20211024_15_46_37_Pro.jpg\n",
      "WIN_20211024_15_46_39_Pro.jpg\n",
      "WIN_20211024_15_46_42_Pro.jpg\n",
      "WIN_20211024_15_46_44_Pro.jpg\n",
      "WIN_20211024_15_46_46_Pro.jpg\n",
      "WIN_20211024_15_46_48_Pro.jpg\n",
      "WIN_20211024_15_46_50_Pro.jpg\n",
      "WIN_20211024_15_46_52_Pro.jpg\n",
      "WIN_20211024_15_46_55_Pro.jpg\n",
      "WIN_20211024_15_46_59_Pro.jpg\n",
      "WIN_20211024_15_47_01_Pro.jpg\n",
      "WIN_20211024_15_47_03_Pro.jpg\n",
      "WIN_20211024_15_47_05_Pro.jpg\n",
      "WIN_20211024_15_47_07_Pro.jpg\n",
      "WIN_20211024_15_47_10_Pro.jpg\n",
      "WIN_20211024_15_47_12_Pro.jpg\n",
      "WIN_20211024_15_47_14_Pro.jpg\n",
      "WIN_20211024_15_47_16_Pro.jpg\n",
      "WIN_20211024_15_47_18_Pro.jpg\n",
      "WIN_20211024_15_47_20_Pro.jpg\n",
      "WIN_20211024_15_47_23_Pro.jpg\n",
      "WIN_20211024_15_47_25_Pro.jpg\n",
      "WIN_20211024_15_47_27_Pro.jpg\n",
      "WIN_20211024_15_47_29_Pro.jpg\n",
      "WIN_20211024_15_47_31_Pro.jpg\n",
      "WIN_20211024_15_47_33_Pro.jpg\n",
      "WIN_20211024_15_47_36_Pro.jpg\n",
      "WIN_20211024_15_47_38_Pro.jpg\n",
      "WIN_20211024_15_47_40_Pro.jpg\n",
      "WIN_20211024_15_47_42_Pro.jpg\n",
      "WIN_20211024_15_47_44_Pro.jpg\n",
      "WIN_20211024_15_47_46_Pro.jpg\n",
      "WIN_20211024_15_47_48_Pro.jpg\n",
      "WIN_20211024_15_47_51_Pro.jpg\n",
      "WIN_20211024_15_47_53_Pro.jpg\n",
      "WIN_20211024_15_47_55_Pro.jpg\n",
      "WIN_20211024_15_47_57_Pro.jpg\n",
      "WIN_20211024_15_47_59_Pro.jpg\n",
      "WIN_20211024_15_48_01_Pro.jpg\n",
      "WIN_20211024_15_48_03_Pro.jpg\n",
      "WIN_20211024_15_48_06_Pro.jpg\n",
      "WIN_20211024_15_48_08_Pro.jpg\n",
      "WIN_20211024_15_48_10_Pro.jpg\n",
      "WIN_20211024_15_48_12_Pro.jpg\n",
      "WIN_20211024_15_48_14_Pro.jpg\n",
      "WIN_20211024_15_48_16_Pro.jpg\n",
      "WIN_20211024_15_48_23_Pro.jpg\n",
      "WIN_20211024_15_48_25_Pro.jpg\n",
      "WIN_20211024_15_48_27_Pro.jpg\n",
      "WIN_20211024_15_48_31_Pro.jpg\n",
      "WIN_20211024_15_48_34_Pro.jpg\n",
      "WIN_20211024_15_48_36_Pro.jpg\n",
      "WIN_20211024_15_48_38_Pro.jpg\n",
      "WIN_20211024_15_48_44_Pro.jpg\n",
      "WIN_20211024_15_48_47_Pro.jpg\n",
      "WIN_20211024_15_48_49_Pro.jpg\n",
      "WIN_20211024_15_48_51_Pro.jpg\n",
      "WIN_20211024_15_48_53_Pro.jpg\n",
      "WIN_20211024_15_48_57_Pro.jpg\n",
      "WIN_20211024_15_49_00_Pro.jpg\n",
      "WIN_20211024_15_49_02_Pro.jpg\n",
      "WIN_20211024_15_49_04_Pro.jpg\n",
      "WIN_20211024_15_49_06_Pro.jpg\n",
      "WIN_20211024_15_49_08_Pro.jpg\n",
      "WIN_20211024_15_49_10_Pro.jpg\n",
      "WIN_20211024_15_49_12_Pro.jpg\n",
      "WIN_20211024_15_49_15_Pro.jpg\n",
      "WIN_20211024_15_49_17_Pro.jpg\n",
      "WIN_20211024_15_49_19_Pro.jpg\n",
      "WIN_20211024_15_49_21_Pro.jpg\n",
      "WIN_20211024_15_49_38_Pro.jpg\n",
      "WIN_20211024_15_49_40_Pro.jpg\n",
      "WIN_20211024_15_49_53_Pro.jpg\n",
      "WIN_20211024_15_49_56_Pro.jpg\n",
      "WIN_20211024_15_49_58_Pro.jpg\n",
      "WIN_20211024_15_50_11_Pro.jpg\n",
      "WIN_20211024_15_50_13_Pro.jpg\n",
      "WIN_20211024_15_50_15_Pro.jpg\n"
     ]
    }
   ],
   "source": [
    "image_path = os.getcwd()+'/images/monocular/calibrationdata/'\n",
    "images = list()\n",
    "image_size = None\n",
    "print(image_path)\n",
    "\n",
    "# Preparing calibration files\n",
    "for filename in os.listdir(image_path) :\n",
    "    print(filename)\n",
    "    img = cv2.imread(image_path+'{}'.format(filename))\n",
    "    images.append(img)"
   ]
  },
  {
   "cell_type": "markdown",
   "metadata": {},
   "source": [
    "<h2 style=\"text-align: center\">\n",
    "    <a href = \"https://docs.opencv.org/4.5.3/d9/d0c/group__calib3d.html#ga93efa9b0aa890de240ca32b11253dd4a\"> findChessboardCorners </a>\n",
    "    is a built in function for detecting the chessboard corners <br>\n",
    "    <a href = \"https://docs.opencv.org/4.5.3/dd/d1a/group__imgproc__feature.html#ga354e0d7c86d0d9da75de9b9701a9a87e\"> cornerSubPix </a>\n",
    "    is a function that uses to refine the location of the corners <br>\n",
    "    <a href = \"https://docs.opencv.org/4.5.3/d9/d0c/group__calib3d.html#ga6a10b0bb120c4907e5eabbcd22319022\"> drawChessboardCorners </a>\n",
    "    is a utility function for draw the detected corner to an image\n",
    "</h2>"
   ]
  },
  {
   "cell_type": "code",
   "execution_count": 5,
   "metadata": {},
   "outputs": [],
   "source": [
    "for image in images :\n",
    "    img_gray = cv2.cvtColor(image, cv2.COLOR_BGR2GRAY)\n",
    "    ret, corners = cv2.findChessboardCorners(img_gray, chessboard_size, None) # xi in pixel (20,15)\n",
    "    image_size = img_gray.shape\n",
    "    # If found add obj points, image points afterthat refining them\n",
    "    if ret == True :\n",
    "        #print('Found')\n",
    "        obj_points.append(objp) # Add Xi 3D\n",
    "        \n",
    "        corners2 = cv2.cornerSubPix(img_gray, corners, (11,11), (-1,-1), term_criteria) # Refining xi -> xi in subpixel, xi -> floating point (19.7, 15.1)\n",
    "        img_points.append(corners2) # Add xi 2D\n",
    "\n",
    "        #Draw and display the chessboard corners\n",
    "        img = cv2.drawChessboardCorners(image, chessboard_size, corners2, ret)\n",
    "        cv2.imshow('frame', img)\n",
    "        cv2.waitKey(100)\n",
    "\n",
    "cv2.destroyAllWindows()"
   ]
  },
  {
   "cell_type": "markdown",
   "metadata": {},
   "source": [
    "<h2 style=\"text-align: center\">\n",
    "    <a href = \"https://docs.opencv.org/4.5.3/d9/d0c/group__calib3d.html#ga3207604e4b1a1758aa66acb6ed5aa65d\"> calibrateCamera </a>\n",
    "    is the main function which you can use to calibrate a pinhole camera model <br>\n",
    "</h2>"
   ]
  },
  {
   "cell_type": "code",
   "execution_count": 6,
   "metadata": {},
   "outputs": [
    {
     "name": "stdout",
     "output_type": "stream",
     "text": [
      "Calibration\n"
     ]
    }
   ],
   "source": [
    "# Start calibration argmin ||xi - PXi||^2 , xi = PXi\n",
    "print('Calibration')\n",
    "ret, mtx, dist, rvecs, tvecs = cv2.calibrateCamera(obj_points,img_points, image_size[::-1] , None, None)"
   ]
  },
  {
   "cell_type": "markdown",
   "metadata": {},
   "source": [
    "<h2 style=\"text-align: center\">\n",
    "    <a href = \"https://docs.opencv.org/4.5.3/d9/d0c/group__calib3d.html#ga7a6c4e032c97f03ba747966e6ad862b1\"> getOptimalNewCameraMatrix </a>\n",
    "    The function computes and returns the optimal new camera intrinsic matrix based on the free scaling parameter <br>\n",
    "</h2>"
   ]
  },
  {
   "cell_type": "code",
   "execution_count": 7,
   "metadata": {},
   "outputs": [
    {
     "name": "stdout",
     "output_type": "stream",
     "text": [
      "[[1.29968396e+03 0.00000000e+00 6.32814378e+02]\n",
      " [0.00000000e+00 1.29933998e+03 4.74721903e+02]\n",
      " [0.00000000e+00 0.00000000e+00 1.00000000e+00]]\n",
      "Optimal K\n",
      "[[1.08458081e+03 0.00000000e+00 6.26112935e+02]\n",
      " [0.00000000e+00 1.09528772e+03 4.84140676e+02]\n",
      " [0.00000000e+00 0.00000000e+00 1.00000000e+00]] (41, 59, 1192, 635)\n"
     ]
    }
   ],
   "source": [
    "img = images[0].copy()\n",
    "h, w = img.shape[:2]\n",
    "newcameramtx, roi = cv2.getOptimalNewCameraMatrix(mtx,dist,(w,h),1,(w,h))\n",
    "print(mtx)\n",
    "print('Optimal K')\n",
    "print(newcameramtx, roi)"
   ]
  },
  {
   "cell_type": "markdown",
   "metadata": {},
   "source": [
    "<h2 style=\"text-align: center\">\n",
    "    <a href = \"https://docs.opencv.org/4.5.3/d9/d0c/group__calib3d.html#ga69f2545a8b62a6b0fc2ee060dc30559d\"> undistort </a>\n",
    "    The function transforms an image to compensate radial and tangential lens distortion. <br>\n",
    "</h2>"
   ]
  },
  {
   "cell_type": "code",
   "execution_count": 8,
   "metadata": {},
   "outputs": [],
   "source": [
    "dst = cv2.undistort(img, mtx, dist, None, newcameramtx)\n",
    "undistored = cv2.undistort(img, mtx, dist, None, None)\n",
    "x,y,w,h = roi\n",
    "dst = dst[y:y+h, x:x+w]"
   ]
  },
  {
   "cell_type": "code",
   "execution_count": 9,
   "metadata": {},
   "outputs": [
    {
     "name": "stdout",
     "output_type": "stream",
     "text": [
      "Reprojection error: 5.6861736867904975\n"
     ]
    }
   ],
   "source": [
    "mean_error = 0\n",
    "for i in range(len(obj_points)) :\n",
    "    reprojected_point,_ = cv2.projectPoints(obj_points[i], rvecs[i], tvecs[i], mtx, dist)\n",
    "    error = cv2.norm(img_points[i], reprojected_point, cv2.NORM_L2)/len(reprojected_point)\n",
    "    mean_error += error\n",
    "\n",
    "print(\"Reprojection error: {}\".format(mean_error))\n",
    "\n",
    "while True :\n",
    "    cv2.imshow('calibrated', dst)\n",
    "    cv2.imshow('undistort', undistored)\n",
    "    if cv2.waitKey(1) & 0xFF == 27 : \n",
    "        break\n",
    "cv2.destroyAllWindows()"
   ]
  },
  {
   "cell_type": "code",
   "execution_count": 13,
   "metadata": {},
   "outputs": [],
   "source": [
    "#Saving parameters into numpy format\n",
    "np.save(\"./new-camera_params/ret\", ret)\n",
    "np.save(\"./new-camera_params/K\", mtx)\n",
    "np.save(\"./new-camera_params/dist\", dist)\n",
    "np.save(\"./new-camera_params/rvecs\", rvecs)\n",
    "np.save(\"./new-camera_params/tvecs\", tvecs)"
   ]
  }
 ],
 "metadata": {
  "interpreter": {
   "hash": "bde8de4267fa2326a064a32ec8bfaf139654fccd7a5afd7688ec5ca48592f22e"
  },
  "kernelspec": {
   "display_name": "Python 3.6.8 64-bit",
   "name": "python3"
  },
  "language_info": {
   "codemirror_mode": {
    "name": "ipython",
    "version": 3
   },
   "file_extension": ".py",
   "mimetype": "text/x-python",
   "name": "python",
   "nbconvert_exporter": "python",
   "pygments_lexer": "ipython3",
   "version": "3.6.8"
  },
  "orig_nbformat": 4
 },
 "nbformat": 4,
 "nbformat_minor": 2
}
